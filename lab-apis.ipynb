{
 "cells": [
  {
   "cell_type": "markdown",
   "id": "27422808-8a16-4be1-897f-57b379af8991",
   "metadata": {},
   "source": [
    "# Lab | APIs"
   ]
  },
  {
   "cell_type": "markdown",
   "id": "50f30950-3e31-499a-92ea-1535422c570b",
   "metadata": {},
   "source": [
    "In order to use the `Spotify` API (`SpotiPy`), create an account in `Spotify` and follow [these](https://developer.spotify.com/documentation/general/guides/app-settings/) steps. "
   ]
  },
  {
   "cell_type": "markdown",
   "id": "a0479b95-6ca5-415e-b894-1f5cb17b055b",
   "metadata": {},
   "source": [
    "## Authentication and initializing the API"
   ]
  },
  {
   "cell_type": "markdown",
   "id": "47d71611-c617-4972-a0c3-7090c24b399c",
   "metadata": {},
   "source": [
    "Save your client ID and your client secret in your preferred way, and read it or load it into the following variables:"
   ]
  },
  {
   "cell_type": "code",
   "execution_count": null,
   "id": "ea44c82a-5c07-4dbc-beb2-bba2601bb75e",
   "metadata": {},
   "outputs": [],
   "source": [
    "CLIENT_ID = \"<introduce your client id>\"\n",
    "CLIENT_SECRET = \"<introduce your client secret>\""
   ]
  },
  {
   "cell_type": "code",
   "execution_count": 2,
   "id": "319cfd4e-f6fb-4419-80e0-e3983cd25e43",
   "metadata": {},
   "outputs": [],
   "source": [
    "import os\n",
    "from dotenv import load_dotenv\n",
    "\n",
    "load_dotenv()\n",
    "\n",
    "CLIENT_ID = os.getenv('CLIENT_ID')\n",
    "CLIENT_SECRET = os.getenv('CLIENT_SECRET')"
   ]
  },
  {
   "cell_type": "code",
   "execution_count": 1,
   "id": "04e12954-fd70-4311-88a5-fb7e2c29799c",
   "metadata": {},
   "outputs": [
    {
     "name": "stdout",
     "output_type": "stream",
     "text": [
      "Collecting spotipy\n",
      "  Downloading spotipy-2.24.0-py3-none-any.whl.metadata (4.9 kB)\n",
      "Collecting redis>=3.5.3 (from spotipy)\n",
      "  Downloading redis-5.0.8-py3-none-any.whl.metadata (9.2 kB)\n",
      "Requirement already satisfied: requests>=2.25.0 in c:\\users\\rafa\\anaconda3\\lib\\site-packages (from spotipy) (2.32.2)\n",
      "Requirement already satisfied: urllib3>=1.26.0 in c:\\users\\rafa\\anaconda3\\lib\\site-packages (from spotipy) (2.2.2)\n",
      "Requirement already satisfied: charset-normalizer<4,>=2 in c:\\users\\rafa\\anaconda3\\lib\\site-packages (from requests>=2.25.0->spotipy) (2.0.4)\n",
      "Requirement already satisfied: idna<4,>=2.5 in c:\\users\\rafa\\anaconda3\\lib\\site-packages (from requests>=2.25.0->spotipy) (3.7)\n",
      "Requirement already satisfied: certifi>=2017.4.17 in c:\\users\\rafa\\anaconda3\\lib\\site-packages (from requests>=2.25.0->spotipy) (2024.7.4)\n",
      "Downloading spotipy-2.24.0-py3-none-any.whl (30 kB)\n",
      "Downloading redis-5.0.8-py3-none-any.whl (255 kB)\n",
      "   ---------------------------------------- 0.0/255.6 kB ? eta -:--:--\n",
      "   --------- ------------------------------ 61.4/255.6 kB 3.2 MB/s eta 0:00:01\n",
      "   ----------------- ---------------------- 112.6/255.6 kB 2.2 MB/s eta 0:00:01\n",
      "   -------------------------------- ------- 204.8/255.6 kB 2.1 MB/s eta 0:00:01\n",
      "   -------------------------------------- - 245.8/255.6 kB 1.7 MB/s eta 0:00:01\n",
      "   -------------------------------------- - 245.8/255.6 kB 1.7 MB/s eta 0:00:01\n",
      "   ---------------------------------------- 255.6/255.6 kB 1.1 MB/s eta 0:00:00\n",
      "Installing collected packages: redis, spotipy\n",
      "Successfully installed redis-5.0.8 spotipy-2.24.0\n"
     ]
    }
   ],
   "source": [
    "# If you havent done so, install the spotipy wrapper\n",
    "!pip install spotipy"
   ]
  },
  {
   "cell_type": "markdown",
   "id": "dc0e86da-8846-4207-84c3-cd20b9e01d0e",
   "metadata": {},
   "source": [
    "Once you have done it, we will start initializing the API."
   ]
  },
  {
   "cell_type": "code",
   "execution_count": 3,
   "id": "03034bc6-9858-412a-83b7-18abdc345d7e",
   "metadata": {},
   "outputs": [],
   "source": [
    "import spotipy\n",
    "from spotipy.oauth2 import SpotifyClientCredentials\n",
    "\n",
    "#Initialize SpotiPy with user credentials\n",
    "sp = spotipy.Spotify(auth_manager=SpotifyClientCredentials(client_id=CLIENT_ID,\n",
    "                                                           client_secret=CLIENT_SECRET))\n"
   ]
  },
  {
   "cell_type": "markdown",
   "id": "8fed9628-08d7-4290-a4be-5527696b01c5",
   "metadata": {},
   "source": [
    "## Using the search method"
   ]
  },
  {
   "cell_type": "markdown",
   "id": "6575a3c6-f25a-4905-b1f3-c0efd50dcc1e",
   "metadata": {},
   "source": [
    "Now, let's use the search method by introducing a \"query\". For example, let's try searching for \"Lady Gaga\":"
   ]
  },
  {
   "cell_type": "code",
   "execution_count": null,
   "id": "7772a1e0-9692-4d04-a590-76111a272d8d",
   "metadata": {
    "tags": []
   },
   "outputs": [],
   "source": [
    "results = sp.search(q='Lady Gaga', limit=50)\n",
    "results"
   ]
  },
  {
   "cell_type": "code",
   "execution_count": null,
   "id": "edc14c95-474b-4e2a-aea3-bdfd0a205546",
   "metadata": {},
   "outputs": [],
   "source": [
    "results.keys() # We can see that we only have tracks"
   ]
  },
  {
   "cell_type": "code",
   "execution_count": null,
   "id": "ad8ef934-1dbb-4008-ac8e-f5c29823fe6a",
   "metadata": {},
   "outputs": [],
   "source": [
    "results[\"tracks\"].keys() # Let's check the values"
   ]
  },
  {
   "cell_type": "code",
   "execution_count": null,
   "id": "004b7814-4dd5-408e-b7ba-1da87f9250cb",
   "metadata": {},
   "outputs": [],
   "source": [
    "results[\"tracks\"][\"href\"] # Query we have searched "
   ]
  },
  {
   "cell_type": "code",
   "execution_count": null,
   "id": "7285cedd-fbe1-47cf-98d5-a7fdc3e5c8b8",
   "metadata": {
    "scrolled": true,
    "tags": []
   },
   "outputs": [],
   "source": [
    "results[\"tracks\"][\"items\"] #items (actual tracks)"
   ]
  },
  {
   "cell_type": "code",
   "execution_count": null,
   "id": "529fff56-47d3-4d78-8ff5-9530fe290d1d",
   "metadata": {},
   "outputs": [],
   "source": [
    "results[\"tracks\"][\"limit\"]#Limit we have chosen"
   ]
  },
  {
   "cell_type": "code",
   "execution_count": null,
   "id": "92c64c57-3bd2-4d42-bbd1-84a040f1e02a",
   "metadata": {},
   "outputs": [],
   "source": [
    "results[\"tracks\"][\"next\"] #link to the next page (next 50 tracks)"
   ]
  },
  {
   "cell_type": "code",
   "execution_count": null,
   "id": "f5ccdf79-5d9e-40de-adb9-2cc1e5b7c74a",
   "metadata": {
    "tags": []
   },
   "outputs": [],
   "source": [
    "results[\"tracks\"][\"offset\"] # Actual offset (starting point)"
   ]
  },
  {
   "cell_type": "code",
   "execution_count": null,
   "id": "356730c1-60a2-4ea8-bd2c-e0522bab8a4d",
   "metadata": {},
   "outputs": [],
   "source": [
    "results[\"tracks\"][\"previous\"] #Previous search"
   ]
  },
  {
   "cell_type": "code",
   "execution_count": null,
   "id": "7c44c8fd-63ea-45ba-94bd-5c5e8e1458b3",
   "metadata": {},
   "outputs": [],
   "source": [
    "results[\"tracks\"][\"total\"] # Number of matches"
   ]
  },
  {
   "cell_type": "markdown",
   "id": "7a127c64-3274-4ecc-aa0f-83ae34af4655",
   "metadata": {},
   "source": [
    "## Exploring the tracks"
   ]
  },
  {
   "cell_type": "code",
   "execution_count": null,
   "id": "6c3541a2-0fd2-41e0-9b27-60a7dc36c4cb",
   "metadata": {
    "scrolled": true,
    "tags": []
   },
   "outputs": [],
   "source": [
    "results[\"tracks\"][\"items\"][0] # Explore the first song"
   ]
  },
  {
   "cell_type": "code",
   "execution_count": null,
   "id": "f2c35eb2-3ea6-4329-9f29-7c062f466638",
   "metadata": {},
   "outputs": [],
   "source": [
    "results[\"tracks\"][\"items\"][0].keys() # We will focus on album, artists, id, name, popularity, type and uri"
   ]
  },
  {
   "cell_type": "code",
   "execution_count": null,
   "id": "889ca3c3-b0c8-4037-96fb-6add847f537f",
   "metadata": {},
   "outputs": [],
   "source": [
    "# Track artists\n",
    "results[\"tracks\"][\"items\"][0][\"artists\"] "
   ]
  },
  {
   "cell_type": "code",
   "execution_count": null,
   "id": "a9c6a0b2-cea7-48ff-8c51-179d15388aa2",
   "metadata": {},
   "outputs": [],
   "source": [
    "# Track artists names\n",
    "for artist in results[\"tracks\"][\"items\"][0][\"artists\"]:\n",
    "    print(artist[\"name\"])"
   ]
  },
  {
   "cell_type": "code",
   "execution_count": null,
   "id": "6a826e9c-d2e7-4537-a82c-3dc3a2b80b9f",
   "metadata": {},
   "outputs": [],
   "source": [
    "# Track ID\n",
    "results[\"tracks\"][\"items\"][0][\"id\"] "
   ]
  },
  {
   "cell_type": "code",
   "execution_count": null,
   "id": "a5bd871b-6087-4680-819c-1a1d8ba879bc",
   "metadata": {},
   "outputs": [],
   "source": [
    "# Track name\n",
    "results[\"tracks\"][\"items\"][0][\"name\"] "
   ]
  },
  {
   "cell_type": "code",
   "execution_count": null,
   "id": "812661f1-29db-452f-a719-cdfbe95ba9f6",
   "metadata": {},
   "outputs": [],
   "source": [
    "# Popularity index\n",
    "results[\"tracks\"][\"items\"][0][\"popularity\"] "
   ]
  },
  {
   "cell_type": "markdown",
   "id": "0e81c762-e6c5-424e-a4eb-12ab45dffb9f",
   "metadata": {},
   "source": [
    "Spotify songs are identified by either a \"url\", a \"uri\", or an \"id\". \n",
    "\n",
    "- The `id` is an alphanumeric code, and it's the nuclear part of the identifier.\n",
    "\n",
    "- The `uri` contains \"spotify:track\" before the id. An uri is useful because it can be searched manually in the Spotify app.\n",
    "\n",
    "- The `url` is a link to the song on the Spotify web player.\n"
   ]
  },
  {
   "cell_type": "code",
   "execution_count": null,
   "id": "8bcdccfc-dde9-4f4b-8af5-3caa335b89b5",
   "metadata": {},
   "outputs": [],
   "source": [
    "results[\"tracks\"][\"items\"][0][\"uri\"]"
   ]
  },
  {
   "cell_type": "markdown",
   "id": "71c3c9c1-4ec2-42bf-a243-b21105ae1699",
   "metadata": {},
   "source": [
    "## Exercise 1: Discovering New Music through Your Favorite Artists\n",
    "\n",
    "**Objective:** \n",
    "Uncover new music by exploring the top tracks of your favorite artists and their related artists.\n",
    "\n",
    "**Instructions:**\n",
    "\n",
    "1. **List Your Favorite Artists**:\n",
    "    - Make a list of your three favorite artists and store it in a variable named `artists`.\n",
    "    - Example: `artists = [\"Los Fabulosos Cadillacs\", \"Manu Chao\", \"Muchachito Bombo Infierno\"]`.\n",
    "\n",
    "2. **Fetch Top Tracks**:\n",
    "    - Write a function named `get_top_tracks`.\n",
    "    - This function should accept an artist's name and return the name of the first 5 top tracks by that artist.\n",
    "    - Use the function `get_top_tracks` to get the first 5 top tracks for each artist in your `artists` list and store the results in a new list named `top_tracks_list`.\n",
    "\n",
    "3. **Discover Related Artists**:\n",
    "    - Write a function named `find_related_artists`.\n",
    "    - This function should accept an artist's name and return the names of the first 5 artists related to the provided artist.\n",
    "    - Store the results in a list named `related_artists_list`.\n",
    "\n",
    "**Challenge:** \n",
    "Combine the above steps to create a playlist that includes the top tracks of your favorite artists and the top tracks of the artists related to them."
   ]
  },
  {
   "cell_type": "markdown",
   "id": "0c442378-e26f-47c8-b4f1-b4fa07089935",
   "metadata": {},
   "source": [
    "**Hint Section for 3. **Discover Related Artists**:**\n",
    "\n",
    "1. **Getting Artist ID**:\n",
    "    - Remember that every artist on Spotify has a unique identifier: their `id`. To get the related artists, you first need to fetch the ID of the given artist.\n",
    "    - Consider using the `sp.search` method to query the artist's name. The method requires a `q` parameter, which is your query (in this case, the artist's name). It also has a `limit` parameter, which specifies the number of tracks it returns. In this case, 1 track is enough, since we just want the artist ID. \n",
    "    - Each track in the results has an associated 'artists' field. This field is a list containing details about all artists involved in that track.\n",
    "   - For most tracks, especially those by a single artist, this list will contain one artist. From this artist's details, you can extract the 'id' field, which is the unique identifier for that artist on Spotify.\n",
    "\n",
    "\n",
    "3. **Fetching Related Artists**:\n",
    "    - Once you have the artist's ID, you can use another SpotiPy method to fetch related artists. Think about which SpotiPy method allows you to get related artists using an artist's ID. Here is the documentation link: https://spotipy.readthedocs.io/en/2.22.1/. \n",
    "    - This method will return a list of related artists. You'll need to extract the relevant details (artist names) from this list.\n",
    "\n",
    "4. **Iterating for Multiple Artists**:\n",
    "    - Once you have a function that returns related artists names for one artist, you can use a list comprehension to apply this function to a list of artist names.\n",
    "\n",
    "5. **Testing**:\n",
    "    - Always test your function with one artist name first. Once you're confident it works, then apply it to the entire list.\n",
    "\n",
    "Remember, the key is to break the problem down into manageable steps. Use the SpotiPy documentation as a resource to understand available methods and their return structures."
   ]
  },
  {
   "cell_type": "code",
   "execution_count": 6,
   "id": "29694252-f217-454d-8881-681b2b6eeb1e",
   "metadata": {},
   "outputs": [
    {
     "name": "stdout",
     "output_type": "stream",
     "text": [
      "{'Bad Wolves': ['Zombie', 'Killing Me Slowly', 'Remember When', 'Hear Me Now', 'Sober'], 'Linkin Park': ['In the End', 'Numb', \"What I've Done\", 'Faint', 'One Step Closer'], 'Ill Niño': ['I Am Loco', 'How Can I Live', 'What Comes Around', 'This Is War', 'What You Deserve']}\n",
      "{'Bad Wolves': ['Adelitas Way', 'Pop Evil', 'From Ashes to New', 'NOTHING MORE', 'Fire From The Gods'], 'Linkin Park': ['Papa Roach', 'Limp Bizkit', 'Three Days Grace', 'Breaking Benjamin', 'System Of A Down'], 'Ill Niño': ['Spineshank', 'Dry Kill Logic', 'Adema', 'Coal Chamber', 'Chimaira']}\n",
      "\n",
      "Bad Wolves's top tracks:\n",
      "- Zombie\n",
      "- Killing Me Slowly\n",
      "- Remember When\n",
      "- Hear Me Now\n",
      "- Sober\n",
      "\n",
      "Adelitas Way's top tracks:\n",
      "- Notorious\n",
      "- Invincible\n",
      "- What It Takes\n",
      "- Bad Reputation\n",
      "- Cage The Beast\n",
      "\n",
      "Pop Evil's top tracks:\n",
      "- Torn to Pieces\n",
      "- Footsteps\n",
      "- Trenches\n",
      "- Waking Lions\n",
      "- Breathe Again\n",
      "\n",
      "From Ashes to New's top tracks:\n",
      "- Barely Breathing (feat. Against The Current)\n",
      "- Panic\n",
      "- Nightmare\n",
      "- Through It All\n",
      "- Scars that I'm Hiding\n",
      "\n",
      "NOTHING MORE's top tracks:\n",
      "- Jenny\n",
      "- IF IT DOESN'T HURT\n",
      "- This Is The Time (Ballast)\n",
      "- Go To War\n",
      "- HOUSE ON SAND (feat. Eric V. of I Prevail)\n",
      "\n",
      "Fire From The Gods's top tracks:\n",
      "- Right Now\n",
      "- American Sun\n",
      "- Excuse Me\n",
      "- Truth To the Weak (Not Built To Collapse)\n",
      "- Victory\n",
      "\n",
      "Linkin Park's top tracks:\n",
      "- In the End\n",
      "- Numb\n",
      "- What I've Done\n",
      "- Faint\n",
      "- One Step Closer\n",
      "\n",
      "Papa Roach's top tracks:\n",
      "- Last Resort\n",
      "- Scars\n",
      "- Help\n",
      "- Getting Away With Murder\n",
      "- Kill The Noise\n",
      "\n",
      "Limp Bizkit's top tracks:\n",
      "- Break Stuff\n",
      "- Rollin' (Air Raid Vehicle)\n",
      "- My Way\n",
      "- Behind Blue Eyes\n",
      "- Take A Look Around\n",
      "\n",
      "Three Days Grace's top tracks:\n",
      "- I Hate Everything About You\n",
      "- Animal I Have Become\n",
      "- Never Too Late\n",
      "- Riot\n",
      "- Time of Dying\n",
      "\n",
      "Breaking Benjamin's top tracks:\n",
      "- The Diary of Jane - Single Version\n",
      "- Breath\n",
      "- I Will Not Bow\n",
      "- Dance With The Devil\n",
      "- So Cold - Remix\n",
      "\n",
      "System Of A Down's top tracks:\n",
      "- Toxicity\n",
      "- Chop Suey!\n",
      "- Lonely Day\n",
      "- Aerials\n",
      "- B.Y.O.B.\n",
      "\n",
      "Ill Niño's top tracks:\n",
      "- I Am Loco\n",
      "- How Can I Live\n",
      "- What Comes Around\n",
      "- This Is War\n",
      "- What You Deserve\n",
      "\n",
      "Spineshank's top tracks:\n",
      "- New Disease\n",
      "- Synthetic\n",
      "- Beginning of the End\n",
      "- Smothered\n",
      "- Violent Mood Swings\n",
      "\n",
      "Dry Kill Logic's top tracks:\n",
      "- Rot\n",
      "- Paper Tiger\n",
      "- Pain\n",
      "- Nightmare\n",
      "- Lost\n",
      "\n",
      "Adema's top tracks:\n",
      "- The Way You Like It\n",
      "- Giving In\n",
      "- Immortal\n",
      "- Planets\n",
      "- Unstable\n",
      "\n",
      "Coal Chamber's top tracks:\n",
      "- Loco\n",
      "- Sway\n",
      "- Fiend\n",
      "- Big Truck\n",
      "- Shock the Monkey\n",
      "\n",
      "Chimaira's top tracks:\n",
      "- Power Trip\n",
      "- Pure Hatred\n",
      "- Resurrection\n",
      "- Nothing Remains\n",
      "- Down Again\n"
     ]
    }
   ],
   "source": [
    "# Your answer here\n",
    "import spotipy\n",
    "from spotipy.oauth2 import SpotifyClientCredentials\n",
    "\n",
    "#Initialize SpotiPy with user credentials\n",
    "sp = spotipy.Spotify(auth_manager=SpotifyClientCredentials(client_id=CLIENT_ID,\n",
    "                                                           client_secret=CLIENT_SECRET))\n",
    "\n",
    "artists = [\"Bad Wolves\", \"Linkin Park\", \"Ill Niño\"]\n",
    "\n",
    "\n",
    "def get_top_tracks(artist_name):\n",
    "    # Search for the artist to get the artist's ID\n",
    "    result = sp.search(q=artist_name, type='artist', limit=1)\n",
    "    \n",
    "    if result['artists']['items']:\n",
    "        artist_id = result['artists']['items'][0]['id']\n",
    "        \n",
    "        # Get the top tracks for the artist\n",
    "        top_tracks = sp.artist_top_tracks(artist_id)\n",
    "        \n",
    "        # Return the top 5 track names\n",
    "        return [track['name'] for track in top_tracks['tracks'][:5]]\n",
    "    else:\n",
    "        return []\n",
    "\n",
    "# Fetch top tracks for all favorite artists\n",
    "top_tracks_list = {artist: get_top_tracks(artist) for artist in artists}\n",
    "print(top_tracks_list)\n",
    "\n",
    "def find_related_artists(artist_name):\n",
    "    # Search for the artist to get the artist's ID\n",
    "    result = sp.search(q=artist_name, type='artist', limit=1)\n",
    "    \n",
    "    if result['artists']['items']:\n",
    "        artist_id = result['artists']['items'][0]['id']\n",
    "        \n",
    "        # Get the related artists for the artist\n",
    "        related_artists = sp.artist_related_artists(artist_id)\n",
    "        \n",
    "        # Return the names of the first 5 related artists\n",
    "        return [artist['name'] for artist in related_artists['artists'][:5]]\n",
    "    else:\n",
    "        return []\n",
    "\n",
    "# Fetch related artists for all favorite artists\n",
    "related_artists_list = {artist: find_related_artists(artist) for artist in artists}\n",
    "print(related_artists_list)\n",
    "\n",
    "\n",
    "# Combine top tracks from favorite artists and their related artists\n",
    "def create_playlist(artists):\n",
    "    playlist = {}\n",
    "\n",
    "    # Get top tracks for favorite artists\n",
    "    for artist in artists:\n",
    "        playlist[artist] = get_top_tracks(artist)\n",
    "        \n",
    "        # Get related artists\n",
    "        related_artists = find_related_artists(artist)\n",
    "        \n",
    "        # Get top tracks for related artists\n",
    "        for related_artist in related_artists:\n",
    "            playlist[related_artist] = get_top_tracks(related_artist)\n",
    "\n",
    "    return playlist\n",
    "\n",
    "# Create the playlist\n",
    "playlist = create_playlist(artists)\n",
    "\n",
    "# Print the playlist\n",
    "for artist, tracks in playlist.items():\n",
    "    print(f\"\\n{artist}'s top tracks:\")\n",
    "    for track in tracks:\n",
    "        print(f\"- {track}\")\n",
    "\n"
   ]
  },
  {
   "cell_type": "markdown",
   "id": "94ad5fdc-22e5-4521-8aa1-c6833eb7e949",
   "metadata": {},
   "source": [
    "## Playlists\n",
    "\n",
    "The `sp.featured_playlists()` method in `spotipy` fetches a list of Spotify's featured playlists at a given moment. These are curated playlists that Spotify often highlights on the platform's homepage. The method provides a snapshot of the playlists that are being promoted or featured by Spotify at the time of the request.\n",
    "\n",
    "Once you've fetched the featured playlists, you can extract their IDs (and other details)."
   ]
  },
  {
   "cell_type": "code",
   "execution_count": null,
   "id": "25fb0cf8-c13a-41b0-b8f8-7e0700fd1e41",
   "metadata": {},
   "outputs": [],
   "source": [
    "sp.featured_playlists() # We get a playlist id of a playlist we like"
   ]
  },
  {
   "cell_type": "markdown",
   "id": "90f558f3-c638-4df4-b5a4-e24f7847d52a",
   "metadata": {},
   "source": [
    "### Getting a Playlist's Details\n",
    "To fetch details about a specific playlist, you can use the playlist method. You'll need the playlist's Spotify ID."
   ]
  },
  {
   "cell_type": "markdown",
   "id": "0eef529f-617f-4ea3-8156-07472ac8e6d5",
   "metadata": {},
   "source": [
    "In this example, we will use the following playlist id: *37i9dQZF1DXd9zR7tdziuQ*"
   ]
  },
  {
   "cell_type": "code",
   "execution_count": null,
   "id": "46d35121-9256-4cf4-81f5-118b87f7af32",
   "metadata": {},
   "outputs": [],
   "source": [
    "playlist_id = \"37i9dQZF1DXd9zR7tdziuQ\"\n",
    "playlist = sp.playlist(playlist_id)"
   ]
  },
  {
   "cell_type": "code",
   "execution_count": null,
   "id": "5260f67f-6024-4fee-8449-30904f03bf76",
   "metadata": {},
   "outputs": [],
   "source": [
    "print(playlist['name'])  # Print the playlist's name\n",
    "print(playlist['description'])  # Print the playlist's description"
   ]
  },
  {
   "cell_type": "markdown",
   "id": "13bc8631-69f0-4b98-9cc9-5baecbaea9ba",
   "metadata": {},
   "source": [
    "### Getting Tracks from a Playlist\n",
    "If you want to get the tracks from a specific playlist, you can use the playlist_tracks method."
   ]
  },
  {
   "cell_type": "code",
   "execution_count": null,
   "id": "69c78f8d-7e6a-4d15-bcbb-fc93edb82433",
   "metadata": {},
   "outputs": [],
   "source": [
    "tracks = sp.playlist_tracks(playlist_id)\n",
    "for track in tracks['items']:\n",
    "    print(track['track']['name'])  # Print each track's name"
   ]
  },
  {
   "cell_type": "markdown",
   "id": "2775714d-acc7-4555-96bd-2c541ab0855e",
   "metadata": {},
   "source": [
    "### Getting Artists from a Playlist\n",
    "\n",
    "To extract all the artists from the tracks in a playlist, you'd typically follow these steps:\n",
    "\n",
    "1. Fetch the playlist's tracks.\n",
    "2. Iterate through each track.\n",
    "3. For each track, extract the associated artists."
   ]
  },
  {
   "cell_type": "code",
   "execution_count": null,
   "id": "65c5e5c4-f186-42c6-b136-4ef02b0b01ff",
   "metadata": {},
   "outputs": [],
   "source": [
    "# List to store unique artist names\n",
    "artists_list = []\n",
    "\n",
    "for track_item in tracks['items']:\n",
    "    track = track_item['track']\n",
    "    for artist in track['artists']:\n",
    "        artist_name = artist['name']\n",
    "        if artist_name not in artists_list:  # This ensures each artist is added only once\n",
    "            artists_list.append(artist_name)\n",
    "\n",
    "print(artists_list)"
   ]
  },
  {
   "cell_type": "markdown",
   "id": "7b52207e-a4f0-4f90-9f4e-3170d7f0f3fe",
   "metadata": {},
   "source": [
    "## Exercise 2: Unraveling the World of Playlists\n",
    "\n",
    "\n",
    "1. **Featured Exploration**: \n",
    "   - Fetch the list of Spotify's current featured playlists. \n",
    "   - Extract and display the names and IDs of the top 5 featured playlists.\n",
    "   \n",
    "2. **Deep Dive**:\n",
    "   - Choose any one of the top 5 featured playlists (you can choose the one you personally find most interesting or simply pick one randomly).\n",
    "   - Fetch and display its name, description, and total track count.\n",
    "\n",
    "3. **Track-tastic**:\n",
    "   - Extract and display the names of the first 10 tracks in the chosen playlist.\n",
    "\n",
    "4. **Artistic Flair**:\n",
    "   - Create a dictionary where the keys are the names of the first 10 tracks, and the values are lists containing the names of the artists associated with each track.\n",
    "   - For example: `{\"TrackName1\": [\"Artist1\", \"Artist2\"], \"TrackName2\": [\"Artist3\"]}`\n",
    "   "
   ]
  },
  {
   "cell_type": "code",
   "execution_count": 10,
   "id": "ed92d961-9646-4375-a386-ccc320a958f5",
   "metadata": {},
   "outputs": [
    {
     "name": "stdout",
     "output_type": "stream",
     "text": [
      "1. Éxitos España (ID: 37i9dQZF1DXaxEKcoCdWHD)\n",
      "2. Verano 2024 (ID: 37i9dQZF1DX9gKTxAbfFfX)\n",
      "3. Viva Latino (ID: 37i9dQZF1DX10zKzsJ2jva)\n",
      "4. PEGAO (ID: 37i9dQZF1DX1HCSfq0nSal)\n",
      "5. Viral España 2024 (ID: 37i9dQZF1DWVJv1UsWItkB)\n",
      "\n",
      "Playlist Name: Éxitos España\n",
      "Description: Los hits de ahora en la playlist más grande de España. Feat. Myke Towers\n",
      "Total Tracks: 50\n",
      "\n",
      "First 10 Tracks:\n",
      "1. OTRA NOCHE\n",
      "2. UWAIE\n",
      "3. La Rizos [Dime Si Le Comento a la Pura]\n",
      "4. Luna llena\n",
      "5. PELIGROSA\n",
      "6. LA MARINA STA MORENA\n",
      "7. Tu Silueta\n",
      "8. Goteras\n",
      "9. Ohnana\n",
      "10. CARITA TRISTE\n",
      "\n",
      "Track to Artist Mapping:\n",
      "OTRA NOCHE: Myke Towers, Darell\n",
      "UWAIE: Kapo\n",
      "La Rizos [Dime Si Le Comento a la Pura]: Las 2K, Chardo Chardemio, Melody Records International\n",
      "Luna llena: Beny Jr\n",
      "PELIGROSA: FloyyMenor\n",
      "LA MARINA STA MORENA: Figa Flawas\n",
      "Tu Silueta: Diegote\n",
      "Goteras: Omar Montes, JC Reyes\n",
      "Ohnana: Kapo\n",
      "CARITA TRISTE: Ana Mena, Emilia\n"
     ]
    }
   ],
   "source": [
    "# Your answer here\n",
    "\n",
    "import spotipy\n",
    "from spotipy.oauth2 import SpotifyClientCredentials\n",
    "\n",
    "#Initialize SpotiPy with user credentials\n",
    "sp = spotipy.Spotify(auth_manager=SpotifyClientCredentials(client_id=CLIENT_ID,\n",
    "                                                           client_secret=CLIENT_SECRET))\n",
    "\n",
    "def get_featured_playlists():\n",
    "    # Fetch featured playlists\n",
    "    featured_playlists = sp.featured_playlists(limit=5)\n",
    "    \n",
    "    # Extract the names and IDs of the top 5 playlists\n",
    "    playlist_info = []\n",
    "    for playlist in featured_playlists['playlists']['items']:\n",
    "        playlist_info.append({\n",
    "            'name': playlist['name'],\n",
    "            'id': playlist['id']\n",
    "        })\n",
    "    \n",
    "    return playlist_info\n",
    "\n",
    "# Get and display the top 5 featured playlists\n",
    "featured_playlists = get_featured_playlists()\n",
    "for i, playlist in enumerate(featured_playlists, 1):\n",
    "    print(f\"{i}. {playlist['name']} (ID: {playlist['id']})\")\n",
    "    \n",
    "def get_playlist_details(playlist_id):\n",
    "    # Fetch the playlist details using the playlist ID\n",
    "    playlist = sp.playlist(playlist_id)\n",
    "    \n",
    "    # Extract relevant details\n",
    "    playlist_name = playlist['name']\n",
    "    playlist_description = playlist['description']\n",
    "    total_tracks = playlist['tracks']['total']\n",
    "    \n",
    "    return {\n",
    "        'name': playlist_name,\n",
    "        'description': playlist_description,\n",
    "        'total_tracks': total_tracks\n",
    "    }\n",
    "\n",
    "# Choose the first playlist for deep dive\n",
    "chosen_playlist_id = featured_playlists[0]['id']\n",
    "playlist_details = get_playlist_details(chosen_playlist_id)\n",
    "\n",
    "# Display playlist details\n",
    "print(f\"\\nPlaylist Name: {playlist_details['name']}\")\n",
    "print(f\"Description: {playlist_details['description']}\")\n",
    "print(f\"Total Tracks: {playlist_details['total_tracks']}\")\n",
    "    \n",
    "def get_first_10_tracks(playlist_id):\n",
    "    # Fetch the playlist's tracks\n",
    "    tracks = sp.playlist_tracks(playlist_id, limit=10)\n",
    "    \n",
    "    # Extract track names\n",
    "    track_names = [track['track']['name'] for track in tracks['items']]\n",
    "    \n",
    "    return track_names\n",
    "\n",
    "# Get and display the first 10 tracks from the chosen playlist\n",
    "first_10_tracks = get_first_10_tracks(chosen_playlist_id)\n",
    "print(\"\\nFirst 10 Tracks:\")\n",
    "for i, track in enumerate(first_10_tracks, 1):\n",
    "    print(f\"{i}. {track}\")\n",
    "\n",
    "\n",
    "def get_track_artist_dict(playlist_id):\n",
    "    # Fetch the playlist's tracks\n",
    "    tracks = sp.playlist_tracks(playlist_id, limit=10)\n",
    "    \n",
    "    # Create a dictionary with track names and their corresponding artists\n",
    "    track_artist_dict = {}\n",
    "    for item in tracks['items']:\n",
    "        track_name = item['track']['name']\n",
    "        artists = [artist['name'] for artist in item['track']['artists']]\n",
    "        track_artist_dict[track_name] = artists\n",
    "    \n",
    "    return track_artist_dict\n",
    "\n",
    "# Get the dictionary of tracks and artists\n",
    "track_artist_dict = get_track_artist_dict(chosen_playlist_id)\n",
    "\n",
    "# Display the dictionary\n",
    "print(\"\\nTrack to Artist Mapping:\")\n",
    "for track, artists in track_artist_dict.items():\n",
    "    print(f\"{track}: {', '.join(artists)}\")\n"
   ]
  }
 ],
 "metadata": {
  "kernelspec": {
   "display_name": "Python 3 (ipykernel)",
   "language": "python",
   "name": "python3"
  },
  "language_info": {
   "codemirror_mode": {
    "name": "ipython",
    "version": 3
   },
   "file_extension": ".py",
   "mimetype": "text/x-python",
   "name": "python",
   "nbconvert_exporter": "python",
   "pygments_lexer": "ipython3",
   "version": "3.12.4"
  }
 },
 "nbformat": 4,
 "nbformat_minor": 5
}
